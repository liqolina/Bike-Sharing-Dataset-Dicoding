{
  "cells": [
    {
      "cell_type": "markdown",
      "metadata": {
        "id": "H9wADwK78DCz"
      },
      "source": [
        "# Proyek Analisis Data: [Bike Sharing Dataset]\n",
        "- **Nama:** [Lutfi Aundrie Hermawan]\n",
        "- **Email:** [lutfiaunher@gmail.com]\n",
        "- **ID Dicoding:** [A126YBF254]"
      ]
    },
    {
      "cell_type": "markdown",
      "metadata": {
        "id": "eE0raob58DC0"
      },
      "source": [
        "## Menentukan Pertanyaan Bisnis"
      ]
    },
    {
      "cell_type": "markdown",
      "metadata": {
        "id": "GmQeQ5YF8DC0"
      },
      "source": [
        "- Bagaimana musim dapat berpengaruh dalam penyewaan sepeda ?\n",
        "- Bagaimana kepopuleran penyewaan sepeda dalam setahun terakhir, apakah 2011 atau 2012 ?\n",
        "- Bagaimana cuaca dapat mempengaruhi dalam penyewaan sepeda ?\n",
        "- Berapa banyaknya seseorang yang memilih registered dibandingkan casual ?\n",
        "- Apakah suhu lingkungan atau suhu yang dirasakan tubuh manusia dapat mempengaruhi jumlah penyewaan ?"
      ]
    },
    {
      "cell_type": "markdown",
      "metadata": {
        "id": "H-z4QGlO8DC1"
      },
      "source": [
        "## Import Semua Packages/Library yang Digunakan"
      ]
    },
    {
      "cell_type": "code",
      "execution_count": null,
      "metadata": {
        "id": "FVYwaObI8DC1"
      },
      "outputs": [],
      "source": [
        "# Perintah untuk menginstall library\n",
        "!pip install numpy\n",
        "!pip install pandas\n",
        "!pip install matplotlib\n",
        "!pip install seaborn\n",
        "\n",
        "# Library yang akan dipakai\n",
        "import numpy as np\n",
        "import pandas as pd\n",
        "import matplotlib.pyplot as plt\n",
        "import seaborn as sns"
      ]
    },
    {
      "cell_type": "markdown",
      "metadata": {
        "id": "h_Sh51Xy8DC1"
      },
      "source": [
        "## Data Wrangling"
      ]
    },
    {
      "cell_type": "markdown",
      "metadata": {
        "id": "sXU2GBYu8DC1"
      },
      "source": [
        "### Gathering Data"
      ]
    },
    {
      "cell_type": "markdown",
      "source": [
        "Tahap pertama kita mengumpulkan data yang telah dikumpulkan sebagai DataFrame. Dengan saya memilih Bike Sharing Dataset, terdapat dataset berupa file day.csv dan hour.csv\n",
        "1. Day.CSV\n"
      ],
      "metadata": {
        "id": "pqTgAUueAc3L"
      }
    },
    {
      "cell_type": "code",
      "execution_count": null,
      "metadata": {
        "id": "zjCBk1BI8DC1"
      },
      "outputs": [],
      "source": [
        "# Memuat tabel day\n",
        "bike_day_df = pd.read_csv('day.csv')\n",
        "bike_day_df.head()"
      ]
    },
    {
      "cell_type": "markdown",
      "source": [
        "**Insight:**\n",
        "- Membuat DataFrame bike_day_df yang berisikan file day.csv"
      ],
      "metadata": {
        "id": "MMi6xGaDkbCi"
      }
    },
    {
      "cell_type": "markdown",
      "source": [
        "2. Hour.CSV"
      ],
      "metadata": {
        "id": "4somRCabZ6_W"
      }
    },
    {
      "cell_type": "code",
      "source": [
        "# Memuat tabel hour\n",
        "bike_hour_df = pd.read_csv('hour.csv')\n",
        "bike_hour_df.head()"
      ],
      "metadata": {
        "id": "NVWoavsBPZNA"
      },
      "execution_count": null,
      "outputs": []
    },
    {
      "cell_type": "markdown",
      "source": [
        "**Insight:**\n",
        "- Membuat DataFrame bike_hour_df yang berisikan file day.csv"
      ],
      "metadata": {
        "id": "eZOSWYKwPbg6"
      }
    },
    {
      "cell_type": "markdown",
      "metadata": {
        "id": "FHSiqaZp8DC1"
      },
      "source": [
        "### Assessing Data"
      ]
    },
    {
      "cell_type": "markdown",
      "source": [
        "#### A. bike_day_df"
      ],
      "metadata": {
        "id": "b2Ay3__uDyv1"
      }
    },
    {
      "cell_type": "markdown",
      "source": [
        "  1. Dataset Information"
      ],
      "metadata": {
        "id": "YeDl_ZUcaPFX"
      }
    },
    {
      "cell_type": "code",
      "source": [
        "# Melihat informasi mengenai tipe data dan jumlah data pada file CSV day\n",
        "bike_day_df.info()"
      ],
      "metadata": {
        "id": "ax-3tEjc9Cj1"
      },
      "execution_count": null,
      "outputs": []
    },
    {
      "cell_type": "markdown",
      "source": [
        "**Insight:**\n",
        "- Pada bagian column dteday terdapat tipe data yang tidak sesuai\n",
        "- Tipe data dteday diubah dari object -> datetime64[ns]"
      ],
      "metadata": {
        "id": "7dtxhAPrkhPL"
      }
    },
    {
      "cell_type": "markdown",
      "source": [
        "  2. Checking Missing Value"
      ],
      "metadata": {
        "id": "1yK9F1CPEjow"
      }
    },
    {
      "cell_type": "code",
      "source": [
        "# Menampilkan informasi mengenai missing values pada file CSV day\n",
        "bike_day_df.isna().sum()"
      ],
      "metadata": {
        "id": "OMZA6tNcP7OE"
      },
      "execution_count": null,
      "outputs": []
    },
    {
      "cell_type": "markdown",
      "source": [
        "**Insight:**\n",
        "- Dari informasi DataFrame tersebut tidak terdapat missing values yang dapat mempengaruhi analisis selanjutnya\n"
      ],
      "metadata": {
        "id": "YYpe65ryQBYq"
      }
    },
    {
      "cell_type": "markdown",
      "source": [
        "  3. Checking Duplicated Data"
      ],
      "metadata": {
        "id": "93bOpmckFWss"
      }
    },
    {
      "cell_type": "code",
      "source": [
        "# Menampilkan jumlah yang terduplikasi pada file CSV day\n",
        "print(\"Jumlah duplikasi: \", bike_day_df.duplicated().sum())"
      ],
      "metadata": {
        "id": "Rh-eAC8tQdxh"
      },
      "execution_count": null,
      "outputs": []
    },
    {
      "cell_type": "markdown",
      "source": [
        "**Insight:**\n",
        "- Dari DataFrame ini tidak terdapat duplikasi yang dapat mempengarhi hasil analisis nanti"
      ],
      "metadata": {
        "id": "Ql3zyjr-FnHk"
      }
    },
    {
      "cell_type": "markdown",
      "source": [
        "  4. Statistical Description of the Dataset"
      ],
      "metadata": {
        "id": "xoA_G136Eu2-"
      }
    },
    {
      "cell_type": "code",
      "source": [
        "# Menampilkan ringkasan parameter statistik\n",
        "bike_day_df.describe()"
      ],
      "metadata": {
        "id": "7gT4UwZ8FVgD"
      },
      "execution_count": null,
      "outputs": []
    },
    {
      "cell_type": "markdown",
      "source": [
        "**Insight:**\n",
        "- Dari DataFrame ini bahwa data statistik menunjukkan bahwa feature tertampil normal dan sesuai juga dengan file readme Bike Sharing Dataset"
      ],
      "metadata": {
        "id": "e6Gmwfk6Qsei"
      }
    },
    {
      "cell_type": "markdown",
      "source": [
        "#### B. bike_hour_df"
      ],
      "metadata": {
        "id": "z5GivFXqHTNK"
      }
    },
    {
      "cell_type": "markdown",
      "source": [
        "  1. Dataset Information"
      ],
      "metadata": {
        "id": "sw1jvY2raXZn"
      }
    },
    {
      "cell_type": "code",
      "source": [
        "# Melihat informasi mengenai tipe data dan jumlah data pada file CSV hour\n",
        "bike_hour_df.info()"
      ],
      "metadata": {
        "id": "5cYR9ANEQCl8"
      },
      "execution_count": null,
      "outputs": []
    },
    {
      "cell_type": "markdown",
      "source": [
        "**Insight:**\n",
        "- Pada bagian column dteday terdapat tipe data yang tidak sesuai\n",
        "- Tipe data dteday diubah dari object -> datetime64[ns]"
      ],
      "metadata": {
        "id": "E8hTPVrsQISc"
      }
    },
    {
      "cell_type": "markdown",
      "source": [
        "  2. Checking Missing Value"
      ],
      "metadata": {
        "id": "rwIKGgw5HsAB"
      }
    },
    {
      "cell_type": "code",
      "source": [
        "# Menampilkan informasi mengenai missing values pada file CSV hour\n",
        "bike_hour_df.isna().sum()"
      ],
      "metadata": {
        "id": "o0QjNOA2QJ7N"
      },
      "execution_count": null,
      "outputs": []
    },
    {
      "cell_type": "markdown",
      "source": [
        "**Insight:**\n",
        "- Dari informasi DataFrame tersebut tidak terdapat missing values yang dapat mempengaruhi analisis selanjutnya"
      ],
      "metadata": {
        "id": "RKk3nHamRBxq"
      }
    },
    {
      "cell_type": "markdown",
      "source": [
        "  3. Checking Duplicated Data"
      ],
      "metadata": {
        "id": "t3wu9dykH2xC"
      }
    },
    {
      "cell_type": "code",
      "source": [
        "# Menampilkan jumlah yang terduplikasi pada file CSV hour\n",
        "print(\"Jumlah duplikasi: \", bike_hour_df.duplicated().sum())"
      ],
      "metadata": {
        "id": "VQRo0T-URDsD"
      },
      "execution_count": null,
      "outputs": []
    },
    {
      "cell_type": "markdown",
      "source": [
        "**Insight:**\n",
        "- Dari DataFrame ini tidak terdapat duplikasi yang dapat mempengarhi hasil analisis nanti"
      ],
      "metadata": {
        "id": "yPfOfOjgH7b3"
      }
    },
    {
      "cell_type": "markdown",
      "source": [
        "  4. Statistical Description of the Dataset"
      ],
      "metadata": {
        "id": "ICW8gVcKILQw"
      }
    },
    {
      "cell_type": "code",
      "source": [
        "# Menampilkan ringkasan parameter statistik\n",
        "bike_hour_df.describe()"
      ],
      "metadata": {
        "id": "7Vuc5NtaH8Al"
      },
      "execution_count": null,
      "outputs": []
    },
    {
      "cell_type": "markdown",
      "source": [
        "**Insight:**\n",
        "- Dari DataFrame ini bahwa data statistik menunjukkan bahwa feature tertampil normal dan sesuai juga dengan file readme Bike Sharing Dataset"
      ],
      "metadata": {
        "id": "OFW_BgrKRJAo"
      }
    },
    {
      "cell_type": "markdown",
      "metadata": {
        "id": "EhN5R4hr8DC1"
      },
      "source": [
        "### Cleaning Data"
      ]
    },
    {
      "cell_type": "markdown",
      "source": [
        "#### A. Cleaning Data bike_day_df"
      ],
      "metadata": {
        "id": "-57UhRgPKk50"
      }
    },
    {
      "cell_type": "code",
      "source": [
        "# Mengubah jenis tipe data pada DataFrame bike_day_df\n",
        "bike_day_df[\"dteday\"] = pd.to_datetime(bike_day_df[\"dteday\"])"
      ],
      "metadata": {
        "id": "jVnYpprE9Evz"
      },
      "execution_count": null,
      "outputs": []
    },
    {
      "cell_type": "markdown",
      "source": [
        "**Insight:**\n",
        "- Mengubah tipe data pada dteday dari object menjadi datetime64[ns] pada DataFrame bike_day_df"
      ],
      "metadata": {
        "id": "Q_5ejIqckiSP"
      }
    },
    {
      "cell_type": "markdown",
      "source": [
        "  2. Change name in column"
      ],
      "metadata": {
        "id": "uD5O-SD7N1Gg"
      }
    },
    {
      "cell_type": "code",
      "source": [
        "# Mengubah nama pada column\n",
        "bike_day_df.rename(columns={\n",
        "    'dteday': 'dateday',\n",
        "    'yr': 'year',\n",
        "    'mnth': 'month',\n",
        "    'weathersit': 'weather_cond',\n",
        "    'cnt': 'count'\n",
        "}, inplace=True)\n",
        "\n",
        "bike_day_df.head()"
      ],
      "metadata": {
        "id": "7XcziOsoOEDA"
      },
      "execution_count": null,
      "outputs": []
    },
    {
      "cell_type": "markdown",
      "source": [
        "**Insight:**\n",
        "- Dari perubahan nama column dapat memudahkan dalam pembacaan"
      ],
      "metadata": {
        "id": "DuFZGNdiWkKp"
      }
    },
    {
      "cell_type": "markdown",
      "source": [
        "  3. Change name in row"
      ],
      "metadata": {
        "id": "r9nDp0BhVP2a"
      }
    },
    {
      "cell_type": "code",
      "source": [
        "# Season = 1:Spring, 2:Summer, 3:Fall, 4:Winter\n",
        "bike_day_df.season.replace((1,2,3,4), ('Spring','Summer','Fall','Winter'), inplace=True)\n",
        "\n",
        "# Month = 1:Jan, 2:Feb, 3:Mar, 4:Apr, 5:May, 6:Jun, 7:Jul, 8:Aug, 9:Sep, 10:Oct, 11:Nov, 12:Dec\n",
        "bike_day_df.month.replace((1,2,3,4,5,6,7,8,9,10,11,12),('Jan','Feb','Mar','Apr','May','Jun','Jul','Aug','Sep','Oct','Nov','Dec'), inplace=True)\n",
        "\n",
        "# Weather_cond = 1:Clear, 2:Misty, 3:Light_RainSnow 4:Heavy_RainSnow\n",
        "bike_day_df.weather_cond.replace((1,2,3,4), ('Clear','Misty','Light_rainsnow','Heavy_rainsnow'), inplace=True)\n",
        "\n",
        "# weekday = 0:Sun, 1:Mon, 2:Tue, 3:Wed, 4:Thu, 5:Fri, 6:Sat\n",
        "bike_day_df.weekday.replace((0,1,2,3,4,5,6), ('Sunday','Monday','Tuesday','Wednesday','Thursday','Friday','Saturday'), inplace=True)\n",
        "\n",
        "# Year = 0:2011, 1:2012\n",
        "bike_day_df.year.replace((0,1), ('2011','2012'), inplace=True)"
      ],
      "metadata": {
        "id": "p0VEm3lDVnY9"
      },
      "execution_count": null,
      "outputs": []
    },
    {
      "cell_type": "markdown",
      "source": [
        "**Insight:**\n",
        "- Perubahan nama row disebabkan dari data yang ditemukan hanya berupa angka dan mempermudahkan pembacaan data"
      ],
      "metadata": {
        "id": "4tvpdehcX1ug"
      }
    },
    {
      "cell_type": "markdown",
      "source": [
        "  4. Checking again after Cleaning Data"
      ],
      "metadata": {
        "id": "RknCd5NaOxWU"
      }
    },
    {
      "cell_type": "code",
      "source": [
        "# Mengecek tipe data dan nama column\n",
        "bike_day_df.info()"
      ],
      "metadata": {
        "id": "b4zJ0lD8xRKA"
      },
      "execution_count": null,
      "outputs": []
    },
    {
      "cell_type": "markdown",
      "source": [
        "**Insight:**\n",
        "- Pengecekan kembali untuk mengetahui apabila tipe data sudah diubah pada DataFrame bike_day_df dan nama pada column"
      ],
      "metadata": {
        "id": "V1o2O-n3x_h0"
      }
    },
    {
      "cell_type": "markdown",
      "source": [
        "#### B. Cleaning Data bike_hour_df\n"
      ],
      "metadata": {
        "id": "w4KvpQixL73R"
      }
    },
    {
      "cell_type": "markdown",
      "source": [
        "  1. Fixing Data Type on the \"dteday\" Feature to Datetime in bike_hour_df DataFrame"
      ],
      "metadata": {
        "id": "sxpCbKsGYdGv"
      }
    },
    {
      "cell_type": "code",
      "source": [
        "# Mengubah jenis tipe data pada DataFrame bike_hour_df\n",
        "bike_hour_df[\"dteday\"] = pd.to_datetime(bike_hour_df[\"dteday\"])"
      ],
      "metadata": {
        "id": "M4_4oPjrw112"
      },
      "execution_count": null,
      "outputs": []
    },
    {
      "cell_type": "markdown",
      "source": [
        "**Insight:**\n",
        "- Mengubah tipe data pada dteday dari object menjadi datetime64[ns] pada DataFrame day"
      ],
      "metadata": {
        "id": "fxdgTw8-w5zn"
      }
    },
    {
      "cell_type": "markdown",
      "source": [
        "  2. Change name in column"
      ],
      "metadata": {
        "id": "9lQtj1YHPmur"
      }
    },
    {
      "cell_type": "code",
      "source": [
        "# Mengubah nama pada column\n",
        "bike_hour_df.rename(columns={\n",
        "    'dteday': 'dateday',\n",
        "    'yr': 'year',\n",
        "    'mnth': 'month',\n",
        "    'weathersit': 'weather_cond',\n",
        "    'cnt': 'count'\n",
        "}, inplace=True)\n",
        "\n",
        "bike_hour_df.head()"
      ],
      "metadata": {
        "id": "0OueGtTQPtVH"
      },
      "execution_count": null,
      "outputs": []
    },
    {
      "cell_type": "markdown",
      "source": [
        "  3. Change name in row"
      ],
      "metadata": {
        "id": "jl116UHSZLwW"
      }
    },
    {
      "cell_type": "code",
      "source": [
        "# Season = 1:Spring, 2:Summer, 3:Fall, 4:Winter\n",
        "bike_hour_df.season.replace((1,2,3,4), ('Spring','Summer','Fall','Winter'), inplace=True)\n",
        "\n",
        "# Month = 1:Jan, 2:Feb, 3:Mar, 4:Apr, 5:May, 6:Jun, 7:Jul, 8:Aug, 9:Sep, 10:Oct, 11:Nov, 12:Dec\n",
        "bike_hour_df.month.replace((1,2,3,4,5,6,7,8,9,10,11,12),('Jan','Feb','Mar','Apr','May','Jun','Jul','Aug','Sep','Oct','Nov','Dec'), inplace=True)\n",
        "\n",
        "# Weather_cond = 1:Clear, 2:Misty, 3:Light_RainSnow 4:Heavy_RainSnow\n",
        "bike_hour_df.weather_cond.replace((1,2,3,4), ('Clear','Misty','Light_rainsnow','Heavy_rainsnow'), inplace=True)\n",
        "\n",
        "# weekday = 0:Sun, 1:Mon, 2:Tue, 3:Wed, 4:Thu, 5:Fri, 6:Sat\n",
        "bike_hour_df.weekday.replace((0,1,2,3,4,5,6), ('Sunday','Monday','Tuesday','Wednesday','Thursday','Friday','Saturday'), inplace=True)\n",
        "\n",
        "# Year = 0:2011, 1:2012\n",
        "bike_hour_df.year.replace((0,1), ('2011','2012'), inplace=True)"
      ],
      "metadata": {
        "id": "Yx1S78YTZXTq"
      },
      "execution_count": null,
      "outputs": []
    },
    {
      "cell_type": "markdown",
      "source": [
        "  4. Checking again after Cleaning Data"
      ],
      "metadata": {
        "id": "zNqrQB-bP-Q0"
      }
    },
    {
      "cell_type": "code",
      "source": [
        "# Mengecek tipe data dan nama column\n",
        "bike_hour_df.info()"
      ],
      "metadata": {
        "id": "cCbXDwWOybHQ"
      },
      "execution_count": null,
      "outputs": []
    },
    {
      "cell_type": "markdown",
      "source": [
        "**Insight:**\n",
        "- Pengecekan kembali untuk mengetahui apabila tipe data sudah diubah pada DataFrame bike_hour_df dan nama pada column"
      ],
      "metadata": {
        "id": "Ls5hqZ46yght"
      }
    },
    {
      "cell_type": "markdown",
      "metadata": {
        "id": "gp-Y6wU38DC1"
      },
      "source": [
        "## Exploratory Data Analysis (EDA)"
      ]
    },
    {
      "cell_type": "markdown",
      "metadata": {
        "id": "MW7WF2kr8DC1"
      },
      "source": [
        "### Explore Data bike_day_df"
      ]
    },
    {
      "cell_type": "markdown",
      "source": [
        "1. Parameter Statistik"
      ],
      "metadata": {
        "id": "6fqq1txhQujl"
      }
    },
    {
      "cell_type": "code",
      "execution_count": null,
      "metadata": {
        "id": "e9CQCZjk8DC2"
      },
      "outputs": [],
      "source": [
        "# Melihat rangkuman parameter pada DataFrame bike_day_df\n",
        "bike_day_df.describe(include=\"all\")"
      ]
    },
    {
      "cell_type": "markdown",
      "source": [
        "**Insight:**\n",
        "- Berdasarkan rangkuman parameter di atas, memperoleh informasi bahwa pada jumlah pemakaian casual berada di kisaran 2 sampai 3410 orang dengan standar deviasi adalah 686.62\n",
        "-"
      ],
      "metadata": {
        "id": "th_Lzl2Fkj9O"
      }
    },
    {
      "cell_type": "markdown",
      "source": [
        "2. Jumlah penyewaan sepeda tiap season"
      ],
      "metadata": {
        "id": "V4kPLIASSoqu"
      }
    },
    {
      "cell_type": "code",
      "source": [
        "# Melihat jumlah penyewaan tiap season\n",
        "bike_day_df.groupby(by=\"season\").agg({\n",
        "    'count': ['max', 'min', 'mean', 'sum']\n",
        "})"
      ],
      "metadata": {
        "id": "oRRQ8ehVTCTI"
      },
      "execution_count": null,
      "outputs": []
    },
    {
      "cell_type": "markdown",
      "source": [
        "**Insight:**\n",
        "- Berdasarkan season yang menyumbang penyewaan terbesar adalah season Fall"
      ],
      "metadata": {
        "id": "fkl-WXUdasxK"
      }
    },
    {
      "cell_type": "markdown",
      "source": [
        "  2. Correlation Matrix"
      ],
      "metadata": {
        "id": "y-aIN_pKfhwP"
      }
    },
    {
      "cell_type": "code",
      "source": [
        "fig, ax = plt.subplots(figsize=(10,6))\n",
        "correlation_matrix = bike_day_df.corr(numeric_only=True)\n",
        "mask = np.triu(np.ones_like(correlation_matrix, dtype=bool))\n",
        "\n",
        "sns.heatmap(\n",
        "    correlation_matrix,\n",
        "    annot=True,\n",
        "    mask=mask,\n",
        "    cmap=\"coolwarm\",\n",
        "    center=0,\n",
        "    fmt=\".2f\")\n",
        "plt.title(\"Correlation Heatmap\")\n",
        "plt.show()"
      ],
      "metadata": {
        "id": "kW5DazM6foIW"
      },
      "execution_count": null,
      "outputs": []
    },
    {
      "cell_type": "markdown",
      "source": [
        "Berikut feature correlation positive yaitu\n",
        "  1. 'atemp' dengan 'temp'\n",
        "  2. 'count' dengan 'registered'"
      ],
      "metadata": {
        "id": "aqkP3TfCf6R1"
      }
    },
    {
      "cell_type": "markdown",
      "source": [
        "### Explore Data bike_hour_df"
      ],
      "metadata": {
        "id": "PWvkytVPSYNL"
      }
    },
    {
      "cell_type": "markdown",
      "source": [
        "1. Parameter Statistik"
      ],
      "metadata": {
        "id": "fpO8aiBuSdoq"
      }
    },
    {
      "cell_type": "code",
      "source": [
        "# Membuat rangkuman parameter pada DataFrame bike_hour_df\n",
        "bike_hour_df.describe(include=\"all\")"
      ],
      "metadata": {
        "id": "4Yn4lBoq0-r0"
      },
      "execution_count": null,
      "outputs": []
    },
    {
      "cell_type": "markdown",
      "source": [
        "**Insight:**\n",
        "- Berdasarkan rangkuman parameter di atas, memperoleh informasi bahwa pada jumlah pemakaian casual berada di kisaran 0 sampai 367 orang dengan standar deviasi adalah 49.30\n",
        "-"
      ],
      "metadata": {
        "id": "8JYdhOLY1DgY"
      }
    },
    {
      "cell_type": "markdown",
      "source": [
        "  2. Correlation Matrix"
      ],
      "metadata": {
        "id": "fNxbCP1bbgh2"
      }
    },
    {
      "cell_type": "code",
      "source": [
        "fig, ax = plt.subplots(figsize=(10,6))\n",
        "correlation_matrix = bike_hour_df.corr(numeric_only=True)\n",
        "mask = np.triu(np.ones_like(correlation_matrix, dtype=bool))\n",
        "\n",
        "# Buat matrix\n",
        "sns.heatmap(\n",
        "    correlation_matrix,\n",
        "    annot=True,\n",
        "    mask=mask,\n",
        "    cmap=\"coolwarm\",\n",
        "    center=0,\n",
        "    fmt=\".2f\")\n",
        "\n",
        "# Mengatur Judul untuk subplot tersebut\n",
        "plt.title(\"Correlation Heatmap\")\n",
        "\n",
        "# Menampilkan plot\n",
        "plt.show()"
      ],
      "metadata": {
        "id": "_K1utovZifrN"
      },
      "execution_count": null,
      "outputs": []
    },
    {
      "cell_type": "markdown",
      "source": [
        "Berikut feature correlation positive yaitu\n",
        "  1. 'atemp' dengan 'temp'\n",
        "  2. 'count' dengan 'registered'"
      ],
      "metadata": {
        "id": "gJkKKI-Hi-IO"
      }
    },
    {
      "cell_type": "markdown",
      "metadata": {
        "id": "zsyZjqak8DC2"
      },
      "source": [
        "## Visualization & Explanatory Analysis"
      ]
    },
    {
      "cell_type": "markdown",
      "metadata": {
        "id": "HZxOiQ6n8DC2"
      },
      "source": [
        "### Pertanyaan 1: Bagaimana musim dapat berpengaruh dalam penyewaan sepeda ?\n"
      ]
    },
    {
      "cell_type": "code",
      "execution_count": null,
      "metadata": {
        "id": "1swJUdAD8DC2"
      },
      "outputs": [],
      "source": [
        "# Membuat suplot\n",
        "fig, ax = plt.subplots()\n",
        "\n",
        "# Membuat barplot\n",
        "sns.barplot(\n",
        "    data=bike_day_df.sort_values(by=\"season\", ascending= False),\n",
        "    x=\"season\",\n",
        "    y=\"count\",\n",
        "    hue=\"year\",\n",
        "    palette=\"viridis\")\n",
        "\n",
        "# Membuat judul, label X dan label Y\n",
        "plt.ylabel(\"Jumlah\")\n",
        "plt.xlabel(\"Season\")\n",
        "plt.title(\"Jumlah total sepeda yang disewakan berdasarkan Musim\")\n",
        "plt.legend(\n",
        "    title=\"Tahun\",\n",
        "    loc=\"upper right\")\n",
        "\n",
        "for container in ax.containers:\n",
        "    ax.bar_label(container, fontsize= 8, color= 'white', weight= 'bold', label_type= 'edge')\n",
        "plt.tight_layout()\n",
        "\n",
        "# Menampilkan plot\n",
        "plt.show()"
      ]
    },
    {
      "cell_type": "markdown",
      "source": [
        "**Insight:**\n",
        "- Berdasarkan visualisasi data yang dibuat, dapat disimpulkan bahwa terdapat hubungan antara season dengan jumlam penyewa, yang paling diminati untuk menggunakan sepeda adalah season fall sedangkan sedikit menggunakan sepeda adalah season spring"
      ],
      "metadata": {
        "id": "R281GRBvoeuM"
      }
    },
    {
      "cell_type": "markdown",
      "metadata": {
        "id": "DgHI7CiU8DC2"
      },
      "source": [
        "### Pertanyaan 2: Bagaimana kepopuleran penyewaan sepeda dalam setahun terakhir, apakah 2011 atau 2012 ?\n"
      ]
    },
    {
      "cell_type": "code",
      "execution_count": null,
      "metadata": {
        "id": "Go0lCsvO8DC2"
      },
      "outputs": [],
      "source": [
        "monthly_counts = bike_day_df.groupby(by=[\"month\",\"year\"]).agg({\n",
        "    \"count\": \"sum\"\n",
        "}).reset_index()\n",
        "\n",
        "fig, ax = plt.subplots()\n",
        "\n",
        "# Buat lineplot\n",
        "sns.lineplot(\n",
        "    data=monthly_counts,\n",
        "    x=\"month\",\n",
        "    y=\"count\",\n",
        "    hue=\"year\",\n",
        "    palette=\"rocket\",\n",
        "    marker=\"o\")\n",
        "\n",
        "# Mengatur judul, label y, dan label x\n",
        "plt.title(\"Jumlah total sepeda yang disewakan berdasarkan Bulan dan tahun\")\n",
        "plt.xlabel(\"Bulan\")\n",
        "plt.ylabel(\"Jumlah Penyewa\")\n",
        "plt.legend(title=\"Tahun\", loc=\"upper right\")\n",
        "plt.tight_layout()\n",
        "\n",
        "# Menampilkan plot\n",
        "plt.show()"
      ]
    },
    {
      "cell_type": "markdown",
      "source": [
        "**Insight:**\n",
        "- Berdasarkan visualisasi data yang dibuat, dapat disimpulkan bahwa terdapat kenaikan jumlah penyewaan sepeda dari tahun 2011 sampai 2012"
      ],
      "metadata": {
        "id": "_0-36BDLklRg"
      }
    },
    {
      "cell_type": "markdown",
      "source": [
        "### Pertanyaan 3: Bagaimana cuaca dapat mempengaruhi dalam penyewaan sepeda ?\n"
      ],
      "metadata": {
        "id": "Fzl80AGJvAbW"
      }
    },
    {
      "cell_type": "code",
      "source": [
        "# membuat subplot\n",
        "fig, ax = plt.subplots(figsize=(20, 10))\n",
        "\n",
        "# Buat barplot\n",
        "sns.barplot(\n",
        "    data=bike_day_df.sort_values(by=\"weather_cond\", ascending= True),\n",
        "    x=\"weather_cond\",\n",
        "    y=\"count\",\n",
        "    hue=\"year\",\n",
        "    palette=\"viridis\")\n",
        "\n",
        "# Mengatur judul, label y, dan label x\n",
        "plt.ylabel(\"Jumlah Penyewa\")\n",
        "plt.xlabel(\"Cuaca\")\n",
        "plt.title(\"Jumlah total sepeda yang disewakan berdasarkan Cuaca\")\n",
        "plt.legend(title=\"Tahun\", loc=\"upper right\")\n",
        "\n",
        "for container in ax.containers:\n",
        "    ax.bar_label(container, fontsize= 8, color= 'white', weight= 'bold', label_type= 'edge')\n",
        "plt.tight_layout()\n",
        "\n",
        "# Menampilkan plot\n",
        "plt.show()"
      ],
      "metadata": {
        "id": "VOqMRnz3vKew"
      },
      "execution_count": null,
      "outputs": []
    },
    {
      "cell_type": "markdown",
      "source": [
        "**Insight:**\n",
        "- Berdasarkan visualisasi data yang dibuat, dapat disimpulkan bahwa cuaca yang cerah dapat membuat aktivitas manusia tidak terhambat dan beraktivitas menggunakan sepeda mengakibatkan naiknya jumlah penyewaan sepeda"
      ],
      "metadata": {
        "id": "PHIa4O-612F4"
      }
    },
    {
      "cell_type": "markdown",
      "source": [
        "### Pertanyaan 4: Berapa banyaknya seseorang yang memilih registered dibandingkan casual ?\n"
      ],
      "metadata": {
        "id": "Vc6kWaSBxHhS"
      }
    },
    {
      "cell_type": "code",
      "source": [
        "# Data Untuk Casual\n",
        "total_casual = sum(bike_day_df['casual'])\n",
        "\n",
        "# Data Untuk Registered\n",
        "total_registered = sum(bike_day_df['registered'])\n",
        "\n",
        "# Data untuk Pieplot\n",
        "data = [total_casual, total_registered]\n",
        "labels = ['Casual', 'Registered']\n",
        "\n",
        "# Membuat label Pieplot\n",
        "plt.pie(\n",
        "    data,\n",
        "    labels=labels,\n",
        "    autopct='%1.1f%%',\n",
        "    colors=[\"gold\", \"tomato\"]\n",
        "    )\n",
        "\n",
        "# Menampilkan plot\n",
        "plt.show()"
      ],
      "metadata": {
        "id": "ON7NwECMxMTU"
      },
      "execution_count": null,
      "outputs": []
    },
    {
      "cell_type": "markdown",
      "source": [
        "### Pertanyaan 5: Apakah suhu lingkungan atau suhu yang dirasakan tubuh manusia dapat mempengaruhi jumlah penyewaan ?\n"
      ],
      "metadata": {
        "id": "vG5wnX3z2jsT"
      }
    },
    {
      "cell_type": "markdown",
      "source": [
        "1. Suhu Lingkungan"
      ],
      "metadata": {
        "id": "rqerqtjF3COH"
      }
    },
    {
      "cell_type": "code",
      "source": [
        "# Membuat Regplot\n",
        "sns.regplot(\n",
        "    x=bike_day_df[\"temp\"],\n",
        "    y=bike_day_df[\"count\"])\n",
        "\n",
        "# Membuat label Regplot\n",
        "plt.title(\"Analisis Regresi berdasarkan Suhu Lingkungan\")\n",
        "plt.xlabel(\"Temperatur (Celcius)\")\n",
        "plt.ylabel(\"Jumlah Penyewaan Sepeda\")\n",
        "plt.tight_layout()\n",
        "\n",
        "# Menampilkan plot\n",
        "plt.show()"
      ],
      "metadata": {
        "id": "TSdP9cLD2pP6"
      },
      "execution_count": null,
      "outputs": []
    },
    {
      "cell_type": "markdown",
      "source": [
        "2. Suhu yang dirasakan tubuh"
      ],
      "metadata": {
        "id": "RSkQKx09342l"
      }
    },
    {
      "cell_type": "code",
      "source": [
        "# Membuat Regplot\n",
        "sns.regplot(\n",
        "    x=bike_day_df[\"atemp\"],\n",
        "    y=bike_day_df[\"count\"])\n",
        "\n",
        "# Membuat label Regplot\n",
        "plt.title(\"Analisis Regresi berdasarkan Suhu yang dirasakan Tubuh\")\n",
        "plt.xlabel(\"Temperatur (Celcius)\")\n",
        "plt.ylabel(\"Jumlah Penyewaan Sepeda\")\n",
        "\n",
        "# Menampilkan plot\n",
        "plt.show()"
      ],
      "metadata": {
        "id": "gSvLAzaC4DRr"
      },
      "execution_count": null,
      "outputs": []
    },
    {
      "cell_type": "markdown",
      "source": [
        "## Analisis Lanjutan (Opsional)"
      ],
      "metadata": {
        "id": "9y4VUsmcYNZ5"
      }
    },
    {
      "cell_type": "code",
      "source": [],
      "metadata": {
        "id": "iWhnzsJGYUCO"
      },
      "execution_count": null,
      "outputs": []
    },
    {
      "cell_type": "markdown",
      "metadata": {
        "id": "_WeHlCeX8DC2"
      },
      "source": [
        "## Conclusion"
      ]
    },
    {
      "cell_type": "markdown",
      "metadata": {
        "id": "ZTcyR48Y8DC2"
      },
      "source": [
        "- Conclution pertanyaan 1: Berdasarkan visualisasi data yang dibuat, terlihat para penyewa menyukai season fall dimana season tersebut memiliki suhu yang sejuk dan cocok untuk mengendarai sepeda  sedikit menggunakan sepeda adalah season spring\n",
        "- Conclution pertanyaan 2"
      ]
    }
  ],
  "metadata": {
    "kernelspec": {
      "display_name": "Python 3",
      "language": "python",
      "name": "python3"
    },
    "language_info": {
      "name": "python",
      "version": "3.8.0 (tags/v3.8.0:fa919fd, Oct 14 2019, 19:21:23) [MSC v.1916 32 bit (Intel)]"
    },
    "orig_nbformat": 4,
    "vscode": {
      "interpreter": {
        "hash": "972b3bf27e332e87b5379f2791f6ef9dfc79c71018c370b0d7423235e20fe4d7"
      }
    },
    "colab": {
      "provenance": [],
      "collapsed_sections": [
        "H-z4QGlO8DC1",
        "FHSiqaZp8DC1",
        "b2Ay3__uDyv1",
        "z5GivFXqHTNK"
      ]
    }
  },
  "nbformat": 4,
  "nbformat_minor": 0
}